{
  "cells": [
    {
      "cell_type": "markdown",
      "metadata": {
        "id": "view-in-colab"
      },
      "source": [
        "<a href=\"https://colab.research.google.com/github/pathwaycom/pathway/blob/main/examples/notebooks/tutorials/asynctransformer.ipynb\" target=\"_parent\"><img src=\"https://pathway.com/assets/colab-badge.svg\" alt=\"Run In Colab\" class=\"inline\"/></a>"
      ]
    },
    {
      "cell_type": "markdown",
      "source": [
        "# Installing Pathway with Python 3.10+\n",
        "\n",
        "In the cell below, we install Pathway into a Python 3.10+ Linux runtime.\n",
        "\n",
        "> **If you are running in Google Colab, please run the colab notebook (Ctrl+F9)**, disregarding the 'not authored by Google' warning.\n",
        "> \n",
        "> **The installation and loading time is less than 1 minute**.\n"
      ],
      "metadata": {
        "id": "notebook-instructions"
      }
    },
    {
      "cell_type": "code",
      "source": [
        "%%capture --no-display\n",
        "!pip install --prefer-binary pathway"
      ],
      "metadata": {
        "id": "pip-installation-pathway",
        "cellView": "form"
      },
      "execution_count": null,
      "outputs": []
    },
    {
      "cell_type": "code",
      "id": "license-key",
      "source": [
        "import pathway as pw\n",
        "\n",
        "# To use advanced features with Pathway Scale, get your free license key from\n",
        "# https://pathway.com/features and paste it below.\n",
        "# To use Pathway Community, comment out the line below.\n",
        "pw.set_license_key(\"demo-license-key-with-telemetry\")"
      ],
      "metadata": {},
      "execution_count": null,
      "outputs": []
    },
    {
      "cell_type": "markdown",
      "id": "1",
      "metadata": {
        "lines_to_next_cell": 2
      },
      "source": [
        "# AsyncTransformer\n",
        "One way of transforming data in Pathway, when simple transformations are not enough, is using [UDFs](/developers/user-guide/data-transformation/user-defined-functions).\n",
        "However, if the flexibility of the UDFs is still not enough, you can use even more general and flexible `AsyncTransformer`, useful especially for asynchronous computations.\n",
        "\n",
        "`AsyncTransformer` is a different mechanism than UDFs.\n",
        "It acts on the whole Pathway Table and returns a new Table.\n",
        "In contrast to UDFs, it is fully asynchronous.\n",
        "It starts the `invoke` method for every row that arrives,\n",
        "without waiting for the previous batches to finish.\n",
        "When the call is finished, its result is returned to the engine with a new processing time.\n",
        "\n",
        "To write an `AsyncTransformer` you need to inherit from [`pw.AsyncTransformer`](/developers/api-docs/pathway#pathway.AsyncTransformer) and implement the [`invoke` method](/developers/api-docs/pathway#pathway.AsyncTransformer.invoke) (it is a coroutine). The names of the arguments of the method have to be the same as the columns in the input table. You can use additional arguments but then you have to specify their default value (it might be useful if you want to use the same `AsyncTransformer` on multiple Pathway tables with different sets of columns). You have to use all columns from the input table. The order of columns/arguments doesn't matter as they are passed to the method as keyword arguments.\n",
        "\n",
        "You also need to define the schema of a table that is produced. The `invoke` method has to return a dictionary containing values to put in all columns of the output table. The keys in the dictionary has to match fields from the output schema.\n",
        "Let's create a simple `AsyncTransformer` that produces a Table with two output columns - `value` and `ret`."
      ]
    },
    {
      "cell_type": "code",
      "execution_count": null,
      "id": "2",
      "metadata": {},
      "outputs": [],
      "source": [
        "import pathway as pw\n",
        "import asyncio\n",
        "\n",
        "\n",
        "class OutputSchema(pw.Schema):\n",
        "    value: int\n",
        "    ret: int\n",
        "\n",
        "\n",
        "class SimpleAsyncTransformer(pw.AsyncTransformer, output_schema=OutputSchema):\n",
        "    async def invoke(self, value: int) -> dict:\n",
        "        await asyncio.sleep(value / 10)\n",
        "        return dict(value=value, ret=value + 1)"
      ]
    },
    {
      "cell_type": "markdown",
      "id": "3",
      "metadata": {},
      "source": [
        "Let's use the transformer on the example input table.\n",
        "The result table containing only successful calls can be retrieved from the [`successful`](/developers/api-docs/pathway#pathway.AsyncTransformer.successful) property of the transformer."
      ]
    },
    {
      "cell_type": "code",
      "execution_count": null,
      "id": "4",
      "metadata": {},
      "outputs": [
        {
          "name": "stderr",
          "output_type": "stream",
          "text": [
            "[2024-06-13T06:35:32]:INFO:Preparing Pathway computation\n"
          ]
        },
        {
          "name": "stderr",
          "output_type": "stream",
          "text": [
            "[2024-06-13T06:35:32]:INFO:PythonReader-0: 0 entries (1 minibatch(es)) have been sent to the engine\n"
          ]
        },
        {
          "name": "stderr",
          "output_type": "stream",
          "text": [
            "[2024-06-13T06:35:33]:INFO:PythonReader-0: 15 entries (31 minibatch(es)) have been sent to the engine\n"
          ]
        },
        {
          "name": "stderr",
          "output_type": "stream",
          "text": [
            "[2024-06-13T06:35:33]:WARNING:PythonReader-0: Closing the data source\n"
          ]
        },
        {
          "name": "stdout",
          "output_type": "stream",
          "text": [
            "            | value | ret\n",
            "^Z3QWT29... | 2     | 3\n",
            "^3CZ78B4... | 2     | 3\n",
            "^YYY4HAB... | 6     | 7\n",
            "^3HN31E1... | 6     | 7\n",
            "^X1MXHYY... | 12    | 13\n"
          ]
        }
      ],
      "source": [
        "table = pw.debug.table_from_markdown(\n",
        "    \"\"\"\n",
        "    value\n",
        "      12\n",
        "       6\n",
        "       2\n",
        "       2\n",
        "       6\n",
        "\n",
        "\"\"\"\n",
        ")\n",
        "\n",
        "result = SimpleAsyncTransformer(input_table=table).successful\n",
        "pw.debug.compute_and_print(result)"
      ]
    },
    {
      "cell_type": "markdown",
      "id": "5",
      "metadata": {},
      "source": [
        "The result is correct. Now let's take a look at the output times:"
      ]
    },
    {
      "cell_type": "code",
      "execution_count": null,
      "id": "6",
      "metadata": {},
      "outputs": [
        {
          "name": "stderr",
          "output_type": "stream",
          "text": [
            "[2024-06-13T06:35:33]:INFO:Preparing Pathway computation\n"
          ]
        },
        {
          "name": "stderr",
          "output_type": "stream",
          "text": [
            "[2024-06-13T06:35:33]:INFO:PythonReader-0: 0 entries (1 minibatch(es)) have been sent to the engine\n"
          ]
        },
        {
          "name": "stderr",
          "output_type": "stream",
          "text": [
            "[2024-06-13T06:35:34]:INFO:PythonReader-0: 15 entries (31 minibatch(es)) have been sent to the engine\n"
          ]
        },
        {
          "name": "stderr",
          "output_type": "stream",
          "text": [
            "[2024-06-13T06:35:34]:WARNING:PythonReader-0: Closing the data source\n"
          ]
        },
        {
          "name": "stdout",
          "output_type": "stream",
          "text": [
            "            | value | ret | __time__      | __diff__\n",
            "^Z3QWT29... | 2     | 3   | 1718253333688 | 1\n",
            "^3CZ78B4... | 2     | 3   | 1718253333688 | 1\n",
            "^YYY4HAB... | 6     | 7   | 1718253334088 | 1\n",
            "^3HN31E1... | 6     | 7   | 1718253334088 | 1\n",
            "^X1MXHYY... | 12    | 13  | 1718253334688 | 1\n"
          ]
        }
      ],
      "source": [
        "pw.debug.compute_and_print_update_stream(result)"
      ]
    },
    {
      "cell_type": "markdown",
      "id": "7",
      "metadata": {},
      "source": [
        "Even though all values have equal processing times initially,\n",
        "the output times are different between the rows.\n",
        "It is the effect of `AsyncTransformer` not waiting for other rows to finish.\n",
        "Thanks to that some rows can be processed downstream quicker.\n",
        "If you want some rows to wait for some other rows to finish,\n",
        "take a look at the [`instance`](#asynctransformer-consistency) parameter."
      ]
    },
    {
      "cell_type": "markdown",
      "id": "8",
      "metadata": {
        "lines_to_next_cell": 2
      },
      "source": [
        "## Failing calls\n",
        "The `invoke` method is usually written by an external user (like you) and it can contain bugs (unless you write bug-free code).\n",
        "When the `invoke` call raises an exception or times out (see the [next section](#controlling-asynctransformer-behavior) for that), its output won't be included in the `successful` table.\n",
        "The failed rows are put in the table accessible by the [`failed`](/developers/api-docs/pathway#pathway.AsyncTransformer.failed) property.\n",
        "Let's define a new `AsyncTransformer` to check that.\n",
        "Maybe we don't like the value $12$ and we fail our function whenever we get it as an argument."
      ]
    },
    {
      "cell_type": "code",
      "execution_count": null,
      "id": "9",
      "metadata": {},
      "outputs": [
        {
          "name": "stderr",
          "output_type": "stream",
          "text": [
            "[2024-06-13T06:35:34]:INFO:Preparing Pathway computation\n"
          ]
        },
        {
          "name": "stderr",
          "output_type": "stream",
          "text": [
            "[2024-06-13T06:35:34]:INFO:PythonReader-0: 0 entries (1 minibatch(es)) have been sent to the engine\n"
          ]
        },
        {
          "name": "stderr",
          "output_type": "stream",
          "text": [
            "[2024-06-13T06:35:34]:ERROR:Exception in AsyncTransformer:\n",
            "Traceback (most recent call last):\n",
            "  File \"/mnt/scratch/pathwaytester/.jenkins/workspace/website_DailyPathwaycomRedeploy/public/pathway/python/pathway/stdlib/utils/async_transformer.py\", line 138, in task\n",
            "    result = await self._invoke(**values)\n",
            "             ^^^^^^^^^^^^^^^^^^^^^^^^^^^^\n",
            "  File \"/mnt/scratch/pathwaytester/.jenkins/workspace/website_DailyPathwaycomRedeploy/public/pathway/python/pathway/internals/udfs/caches.py\", line 57, in wrapper\n",
            "    return await func(*args, **kwargs)\n",
            "           ^^^^^^^^^^^^^^^^^^^^^^^^^^^\n",
            "  File \"/tmp/ipykernel_2126549/87049108.py\", line 4, in invoke\n",
            "    raise ValueError(\"incorrect value\")\n",
            "ValueError: incorrect value\n"
          ]
        },
        {
          "name": "stderr",
          "output_type": "stream",
          "text": [
            "[2024-06-13T06:35:34]:INFO:PythonReader-0: 15 entries (31 minibatch(es)) have been sent to the engine\n"
          ]
        },
        {
          "name": "stderr",
          "output_type": "stream",
          "text": [
            "[2024-06-13T06:35:34]:WARNING:PythonReader-0: Closing the data source\n"
          ]
        },
        {
          "name": "stderr",
          "output_type": "stream",
          "text": [
            "[2024-06-13T06:35:34]:INFO:Preparing Pathway computation\n"
          ]
        },
        {
          "name": "stderr",
          "output_type": "stream",
          "text": [
            "[2024-06-13T06:35:34]:INFO:PythonReader-0: 0 entries (1 minibatch(es)) have been sent to the engine\n"
          ]
        },
        {
          "name": "stderr",
          "output_type": "stream",
          "text": [
            "[2024-06-13T06:35:34]:ERROR:Exception in AsyncTransformer:\n",
            "Traceback (most recent call last):\n",
            "  File \"/mnt/scratch/pathwaytester/.jenkins/workspace/website_DailyPathwaycomRedeploy/public/pathway/python/pathway/stdlib/utils/async_transformer.py\", line 138, in task\n",
            "    result = await self._invoke(**values)\n",
            "             ^^^^^^^^^^^^^^^^^^^^^^^^^^^^\n",
            "  File \"/mnt/scratch/pathwaytester/.jenkins/workspace/website_DailyPathwaycomRedeploy/public/pathway/python/pathway/internals/udfs/caches.py\", line 57, in wrapper\n",
            "    return await func(*args, **kwargs)\n",
            "           ^^^^^^^^^^^^^^^^^^^^^^^^^^^\n",
            "  File \"/tmp/ipykernel_2126549/87049108.py\", line 4, in invoke\n",
            "    raise ValueError(\"incorrect value\")\n",
            "ValueError: incorrect value\n"
          ]
        },
        {
          "name": "stderr",
          "output_type": "stream",
          "text": [
            "[2024-06-13T06:35:34]:INFO:PythonReader-0: 15 entries (31 minibatch(es)) have been sent to the engine\n"
          ]
        },
        {
          "name": "stderr",
          "output_type": "stream",
          "text": [
            "[2024-06-13T06:35:34]:WARNING:PythonReader-0: Closing the data source\n"
          ]
        },
        {
          "name": "stdout",
          "output_type": "stream",
          "text": [
            "            | value | ret\n",
            "^Z3QWT29... | 2     | 3\n",
            "^3CZ78B4... | 2     | 3\n",
            "^YYY4HAB... | 6     | 7\n",
            "^3HN31E1... | 6     | 7\n",
            "            | value | ret\n",
            "^X1MXHYY... |       |\n"
          ]
        }
      ],
      "source": [
        "class SometimesFailingAsyncTransformer(pw.AsyncTransformer, output_schema=OutputSchema):\n",
        "    async def invoke(self, value: int) -> dict:\n",
        "        if value == 12:\n",
        "            raise ValueError(\"incorrect value\")\n",
        "        return dict(value=value, ret=value + 1)\n",
        "\n",
        "\n",
        "t = SometimesFailingAsyncTransformer(input_table=table)\n",
        "pw.debug.compute_and_print(t.successful)\n",
        "pw.debug.compute_and_print(t.failed)"
      ]
    },
    {
      "cell_type": "markdown",
      "id": "10",
      "metadata": {},
      "source": [
        "In the failed table you only get the ids of failed rows (other columns contain `None`).\n",
        "Because the `invoke` call failed it was impossible to return any values.\n",
        "You can check which values have failed by joining with the input table:"
      ]
    },
    {
      "cell_type": "code",
      "execution_count": null,
      "id": "11",
      "metadata": {},
      "outputs": [
        {
          "name": "stderr",
          "output_type": "stream",
          "text": [
            "[2024-06-13T06:35:34]:INFO:Preparing Pathway computation\n"
          ]
        },
        {
          "name": "stderr",
          "output_type": "stream",
          "text": [
            "[2024-06-13T06:35:34]:INFO:PythonReader-0: 0 entries (1 minibatch(es)) have been sent to the engine\n"
          ]
        },
        {
          "name": "stderr",
          "output_type": "stream",
          "text": [
            "[2024-06-13T06:35:34]:ERROR:Exception in AsyncTransformer:\n",
            "Traceback (most recent call last):\n",
            "  File \"/mnt/scratch/pathwaytester/.jenkins/workspace/website_DailyPathwaycomRedeploy/public/pathway/python/pathway/stdlib/utils/async_transformer.py\", line 138, in task\n",
            "    result = await self._invoke(**values)\n",
            "             ^^^^^^^^^^^^^^^^^^^^^^^^^^^^\n",
            "  File \"/mnt/scratch/pathwaytester/.jenkins/workspace/website_DailyPathwaycomRedeploy/public/pathway/python/pathway/internals/udfs/caches.py\", line 57, in wrapper\n",
            "    return await func(*args, **kwargs)\n",
            "           ^^^^^^^^^^^^^^^^^^^^^^^^^^^\n",
            "  File \"/tmp/ipykernel_2126549/87049108.py\", line 4, in invoke\n",
            "    raise ValueError(\"incorrect value\")\n",
            "ValueError: incorrect value\n"
          ]
        },
        {
          "name": "stderr",
          "output_type": "stream",
          "text": [
            "[2024-06-13T06:35:34]:INFO:PythonReader-0: 15 entries (31 minibatch(es)) have been sent to the engine\n"
          ]
        },
        {
          "name": "stderr",
          "output_type": "stream",
          "text": [
            "[2024-06-13T06:35:34]:WARNING:PythonReader-0: Closing the data source\n"
          ]
        },
        {
          "name": "stdout",
          "output_type": "stream",
          "text": [
            "            | value\n",
            "^X1MXHYY... | 12\n"
          ]
        }
      ],
      "source": [
        "failed = t.failed.join(table, pw.left.id == pw.right.id, id=pw.left.id).select(\n",
        "    pw.right.value\n",
        ")\n",
        "pw.debug.compute_and_print(failed)"
      ]
    },
    {
      "cell_type": "markdown",
      "id": "12",
      "metadata": {},
      "source": [
        "Now, you can see that the failed row actually has $12$ in the `value` column."
      ]
    },
    {
      "cell_type": "markdown",
      "id": "13",
      "metadata": {
        "lines_to_next_cell": 0
      },
      "source": [
        "## Controlling AsyncTransformer behavior\n",
        "It is possible to control the behavior of `AsyncTransformer` using parameters similar to those in UDFs.\n",
        "They can be passed to [`with_options`](/developers/api-docs/pathway#pathway.AsyncTransformer.with_options) method.\n",
        "The available options are:\n",
        "- `capacity` - the maximum number of concurrent operations,\n",
        "- `timeout` - the maximum time (in seconds) to wait for the function result,\n",
        "- `retry_strategy` - the strategy for handling retries in case of failures.\n",
        "The same strategies as for asynchronous UDFs can be used.\n",
        "Examples: [`ExponentialBackoffRetryStrategy`](/developers/api-docs/udfs#pathway.udfs.ExponentialBackoffRetryStrategy), [`FixedDelayRetryStrategy`](/developers/api-docs/udfs#pathway.udfs.FixedDelayRetryStrategy),\n",
        "- `cache_strategy` - the caching strategy. The same strategies as for UDFs can be used. Examples: [`DiskCache`](/developers/api-docs/udfs#pathway.udfs.DiskCache), [`InMemoryCache`](/developers/api-docs/udfs#pathway.udfs.InMemoryCache).\n",
        "\n",
        "In the following example, you add a timeout to the `SimpleAsyncTransformer` defined above.\n",
        "It is set to $0.9$ seconds."
      ]
    },
    {
      "cell_type": "code",
      "execution_count": null,
      "id": "14",
      "metadata": {},
      "outputs": [
        {
          "name": "stderr",
          "output_type": "stream",
          "text": [
            "[2024-06-13T06:35:34]:INFO:Preparing Pathway computation\n"
          ]
        },
        {
          "name": "stderr",
          "output_type": "stream",
          "text": [
            "[2024-06-13T06:35:34]:INFO:PythonReader-0: 0 entries (1 minibatch(es)) have been sent to the engine\n"
          ]
        },
        {
          "name": "stderr",
          "output_type": "stream",
          "text": [
            "[2024-06-13T06:35:35]:ERROR:Exception in AsyncTransformer:\n",
            "Traceback (most recent call last):\n",
            "  File \"/mnt/scratch/pathwaytester/.jenkins/workspace/website_DailyPathwaycomRedeploy/public/pathway/python/pathway/internals/udfs/executors.py\", line 281, in wrapper\n",
            "    return await func(*args, **kwargs)\n",
            "           ^^^^^^^^^^^^^^^^^^^^^^^^^^^\n",
            "  File \"/tmp/ipykernel_2126549/2486469377.py\", line 12, in invoke\n",
            "    await asyncio.sleep(value / 10)\n",
            "  File \"/home/pathwaytester/miniconda/envs/CLf3c2fc4b23978134d09a80d4a8de45adf97cf9c6361b7b1a0b839e89e7487a9e/lib/python3.11/asyncio/tasks.py\", line 649, in sleep\n",
            "    return await future\n",
            "           ^^^^^^^^^^^^\n",
            "asyncio.exceptions.CancelledError\n",
            "\n",
            "The above exception was the direct cause of the following exception:\n",
            "\n",
            "Traceback (most recent call last):\n",
            "  File \"/mnt/scratch/pathwaytester/.jenkins/workspace/website_DailyPathwaycomRedeploy/public/pathway/python/pathway/stdlib/utils/async_transformer.py\", line 138, in task\n",
            "    result = await self._invoke(**values)\n",
            "             ^^^^^^^^^^^^^^^^^^^^^^^^^^^^\n",
            "  File \"/mnt/scratch/pathwaytester/.jenkins/workspace/website_DailyPathwaycomRedeploy/public/pathway/python/pathway/internals/udfs/executors.py\", line 280, in wrapper\n",
            "    async with asyncio.timeout(timeout):\n",
            "  File \"/home/pathwaytester/miniconda/envs/CLf3c2fc4b23978134d09a80d4a8de45adf97cf9c6361b7b1a0b839e89e7487a9e/lib/python3.11/asyncio/timeouts.py\", line 115, in __aexit__\n",
            "    raise TimeoutError from exc_val\n",
            "TimeoutError\n"
          ]
        },
        {
          "name": "stderr",
          "output_type": "stream",
          "text": [
            "[2024-06-13T06:35:35]:INFO:PythonReader-0: 15 entries (31 minibatch(es)) have been sent to the engine\n"
          ]
        },
        {
          "name": "stderr",
          "output_type": "stream",
          "text": [
            "[2024-06-13T06:35:35]:WARNING:PythonReader-0: Closing the data source\n"
          ]
        },
        {
          "name": "stderr",
          "output_type": "stream",
          "text": [
            "[2024-06-13T06:35:35]:INFO:Preparing Pathway computation\n"
          ]
        },
        {
          "name": "stderr",
          "output_type": "stream",
          "text": [
            "[2024-06-13T06:35:35]:INFO:PythonReader-0: 0 entries (1 minibatch(es)) have been sent to the engine\n"
          ]
        },
        {
          "name": "stdout",
          "output_type": "stream",
          "text": [
            "            | value | ret\n",
            "^Z3QWT29... | 2     | 3\n",
            "^3CZ78B4... | 2     | 3\n",
            "^YYY4HAB... | 6     | 7\n",
            "^3HN31E1... | 6     | 7\n"
          ]
        },
        {
          "name": "stderr",
          "output_type": "stream",
          "text": [
            "[2024-06-13T06:35:36]:ERROR:Exception in AsyncTransformer:\n",
            "Traceback (most recent call last):\n",
            "  File \"/mnt/scratch/pathwaytester/.jenkins/workspace/website_DailyPathwaycomRedeploy/public/pathway/python/pathway/internals/udfs/executors.py\", line 281, in wrapper\n",
            "    return await func(*args, **kwargs)\n",
            "           ^^^^^^^^^^^^^^^^^^^^^^^^^^^\n",
            "  File \"/tmp/ipykernel_2126549/2486469377.py\", line 12, in invoke\n",
            "    await asyncio.sleep(value / 10)\n",
            "  File \"/home/pathwaytester/miniconda/envs/CLf3c2fc4b23978134d09a80d4a8de45adf97cf9c6361b7b1a0b839e89e7487a9e/lib/python3.11/asyncio/tasks.py\", line 649, in sleep\n",
            "    return await future\n",
            "           ^^^^^^^^^^^^\n",
            "asyncio.exceptions.CancelledError\n",
            "\n",
            "The above exception was the direct cause of the following exception:\n",
            "\n",
            "Traceback (most recent call last):\n",
            "  File \"/mnt/scratch/pathwaytester/.jenkins/workspace/website_DailyPathwaycomRedeploy/public/pathway/python/pathway/stdlib/utils/async_transformer.py\", line 138, in task\n",
            "    result = await self._invoke(**values)\n",
            "             ^^^^^^^^^^^^^^^^^^^^^^^^^^^^\n",
            "  File \"/mnt/scratch/pathwaytester/.jenkins/workspace/website_DailyPathwaycomRedeploy/public/pathway/python/pathway/internals/udfs/executors.py\", line 280, in wrapper\n",
            "    async with asyncio.timeout(timeout):\n",
            "  File \"/home/pathwaytester/miniconda/envs/CLf3c2fc4b23978134d09a80d4a8de45adf97cf9c6361b7b1a0b839e89e7487a9e/lib/python3.11/asyncio/timeouts.py\", line 115, in __aexit__\n",
            "    raise TimeoutError from exc_val\n",
            "TimeoutError\n"
          ]
        },
        {
          "name": "stderr",
          "output_type": "stream",
          "text": [
            "[2024-06-13T06:35:36]:INFO:PythonReader-0: 15 entries (31 minibatch(es)) have been sent to the engine\n"
          ]
        },
        {
          "name": "stderr",
          "output_type": "stream",
          "text": [
            "[2024-06-13T06:35:36]:WARNING:PythonReader-0: Closing the data source\n"
          ]
        },
        {
          "name": "stdout",
          "output_type": "stream",
          "text": [
            "            | value\n",
            "^MFBX8ZW... | 12\n"
          ]
        }
      ],
      "source": [
        "t = SimpleAsyncTransformer(input_table=table).with_options(timeout=0.9)\n",
        "\n",
        "pw.debug.compute_and_print(t.successful)\n",
        "failed = t.failed.join(table, pw.left.id == pw.right.id).select(pw.right.value)\n",
        "pw.debug.compute_and_print(failed)"
      ]
    },
    {
      "cell_type": "markdown",
      "id": "15",
      "metadata": {},
      "source": [
        "Recall that the transformer sleeps the `invoke` method for a time passed as the method argument divided by $10$.\n",
        "That's why calls with `value` less than $9$ were successful, and calls with `value` greater than $9$ failed."
      ]
    },
    {
      "cell_type": "markdown",
      "id": "16",
      "metadata": {},
      "source": [
        "## AsyncTransformer consistency\n",
        "By default, `AsyncTransformer` preserves order for a given key.\n",
        "It means that if some row is still executed by `AsyncTransformer` and its update starts being executed and finishes earlier than the original row,\n",
        "it'll wait for the completion of the original row processing before being returned to the engine.\n",
        "The update cannot have an earlier time assigned than the original row as it would break the correctness of the computations.\n",
        "\n",
        "Let's analyze this case by computing the sums of entries from the stream.\n",
        "You want to compute the sum for each `group` independently."
      ]
    },
    {
      "cell_type": "code",
      "execution_count": null,
      "id": "17",
      "metadata": {},
      "outputs": [
        {
          "name": "stderr",
          "output_type": "stream",
          "text": [
            "[2024-06-13T06:35:36]:INFO:Preparing Pathway computation\n"
          ]
        },
        {
          "name": "stdout",
          "output_type": "stream",
          "text": [
            "            | group | value | __time__ | __diff__\n",
            "^YYY4HAB... | 1     | 5     | 2        | 1\n",
            "^Z3QWT29... | 2     | 1     | 2        | 1\n",
            "^YYY4HAB... | 1     | 5     | 4        | -1\n",
            "^Z3QWT29... | 2     | 1     | 4        | -1\n",
            "^YYY4HAB... | 1     | 2     | 4        | 1\n",
            "^Z3QWT29... | 2     | 3     | 4        | 1\n"
          ]
        }
      ],
      "source": [
        "table = pw.debug.table_from_markdown(\n",
        "    \"\"\"\n",
        "    group | value | __time__\n",
        "      1   |   2   |     2\n",
        "      1   |   3   |     2\n",
        "      2   |   1   |     2\n",
        "      1   |  -3   |     4\n",
        "      2   |   2   |     4\n",
        "\"\"\"\n",
        ")\n",
        "sums = table.groupby(pw.this.group).reduce(\n",
        "    pw.this.group, value=pw.reducers.sum(pw.this.value)\n",
        ")\n",
        "\n",
        "pw.debug.compute_and_print_update_stream(sums)"
      ]
    },
    {
      "cell_type": "markdown",
      "id": "18",
      "metadata": {
        "lines_to_next_cell": 2
      },
      "source": [
        "The sums computed in time $2$ are $5$ and $1$.\n",
        "They are deleted in time $4$ and replaced with sums $2$ and $3$.\n",
        "Let's modify `SimpleAsyncTransformer` to propagate the `group` column as well and apply it to the `sums` table."
      ]
    },
    {
      "cell_type": "code",
      "execution_count": null,
      "id": "19",
      "metadata": {},
      "outputs": [
        {
          "name": "stderr",
          "output_type": "stream",
          "text": [
            "[2024-06-13T06:35:36]:INFO:Preparing Pathway computation\n"
          ]
        },
        {
          "name": "stderr",
          "output_type": "stream",
          "text": [
            "[2024-06-13T06:35:36]:INFO:PythonReader-0: 0 entries (1 minibatch(es)) have been sent to the engine\n"
          ]
        },
        {
          "name": "stderr",
          "output_type": "stream",
          "text": [
            "[2024-06-13T06:35:37]:INFO:PythonReader-0: 10 entries (25 minibatch(es)) have been sent to the engine\n"
          ]
        },
        {
          "name": "stderr",
          "output_type": "stream",
          "text": [
            "[2024-06-13T06:35:37]:WARNING:PythonReader-0: Closing the data source\n"
          ]
        },
        {
          "name": "stdout",
          "output_type": "stream",
          "text": [
            "            | group | value | ret | __time__      | __diff__\n",
            "^Z3QWT29... | 2     | 1     | 2   | 1718253336780 | 1\n",
            "^Z3QWT29... | 2     | 1     | 2   | 1718253336980 | -1\n",
            "^Z3QWT29... | 2     | 3     | 4   | 1718253336980 | 1\n",
            "^YYY4HAB... | 1     | 2     | 3   | 1718253337180 | 1\n"
          ]
        }
      ],
      "source": [
        "class OutputWithGroupSchema(pw.Schema):\n",
        "    group: int\n",
        "    value: int\n",
        "    ret: int\n",
        "\n",
        "\n",
        "class GroupAsyncTransformer(pw.AsyncTransformer, output_schema=OutputWithGroupSchema):\n",
        "    async def invoke(self, value: int, group: int) -> dict:\n",
        "        await asyncio.sleep(value / 10)\n",
        "        return dict(group=group, value=value, ret=value + 1)\n",
        "\n",
        "\n",
        "result = GroupAsyncTransformer(input_table=sums).successful\n",
        "pw.debug.compute_and_print_update_stream(result)"
      ]
    },
    {
      "cell_type": "markdown",
      "id": "20",
      "metadata": {},
      "source": [
        "All rows reach `GroupAsyncTransformer` at approximately the same time.\n",
        "In group $2$, the value at time $2$ is $1$, and at time $4$ is $3$.\n",
        "The first value is processed faster and returned to the engine.\n",
        "When a call for the next value finishes, the old value is removed and a new value is returned to the engine.\n",
        "\n",
        "The situation for group $1$ is different.\n",
        "The value at time $2$ is greater than the value at time $4$ ($5 > 2$).\n",
        "Because of that, the second call to `invoke` finishes earlier and has to wait for the first call to finish.\n",
        "When the first call finishes, they are both returned to the engine.\n",
        "The value from the second call is newer and immediately replaces the old value."
      ]
    },
    {
      "cell_type": "markdown",
      "id": "21",
      "metadata": {},
      "source": [
        "### Partial consistency\n",
        "Sometimes, the consistency for rows with a single key might not be enough for you.\n",
        "If you want to guarantee an order within a group of records, you can use the `instance` parameter of the `AsyncTransformer`.\n",
        "Rows within a single `instance` are ordered.\n",
        "It means that the results for rows with higher initial processing times can't overtake the results for rows with lower initial processing times.\n",
        "All results within a single instance with equal processing times wait for all rows with this time to finish.\n",
        "Using the `instance` parameter does not block new calls from starting. Only the results of the calls get synchronized.\n",
        "To demonstrate the synchronization, we create a new table with more data:"
      ]
    },
    {
      "cell_type": "code",
      "execution_count": null,
      "id": "22",
      "metadata": {},
      "outputs": [
        {
          "name": "stderr",
          "output_type": "stream",
          "text": [
            "[2024-06-13T06:35:37]:INFO:Preparing Pathway computation\n"
          ]
        },
        {
          "name": "stdout",
          "output_type": "stream",
          "text": [
            "            | group | value | __time__ | __diff__\n",
            "^YYY4HAB... | 1     | 5     | 2        | 1\n",
            "^Z3QWT29... | 2     | 1     | 2        | 1\n",
            "^3CZ78B4... | 3     | 1     | 2        | 1\n",
            "^3HN31E1... | 4     | 3     | 2        | 1\n",
            "^YYY4HAB... | 1     | 5     | 4        | -1\n",
            "^Z3QWT29... | 2     | 1     | 4        | -1\n",
            "^3CZ78B4... | 3     | 1     | 4        | -1\n",
            "^3HN31E1... | 4     | 3     | 4        | -1\n",
            "^YYY4HAB... | 1     | 2     | 4        | 1\n",
            "^Z3QWT29... | 2     | 4     | 4        | 1\n",
            "^3CZ78B4... | 3     | 2     | 4        | 1\n",
            "^3HN31E1... | 4     | 2     | 4        | 1\n"
          ]
        }
      ],
      "source": [
        "table = pw.debug.table_from_markdown(\n",
        "    \"\"\"\n",
        "    group | value | __time__\n",
        "      1   |   2   |     2\n",
        "      1   |   3   |     2\n",
        "      2   |   1   |     2\n",
        "      3   |   1   |     2\n",
        "      4   |   3   |     2\n",
        "      1   |  -3   |     4\n",
        "      2   |   3   |     4\n",
        "      3   |   1   |     4\n",
        "      4   |  -1   |     4\n",
        "\"\"\"\n",
        ")\n",
        "sums = table.groupby(pw.this.group).reduce(\n",
        "    pw.this.group, value=pw.reducers.sum(pw.this.value)\n",
        ")\n",
        "\n",
        "pw.debug.compute_and_print_update_stream(sums)"
      ]
    },
    {
      "cell_type": "markdown",
      "id": "23",
      "metadata": {},
      "source": [
        "Now, you have four groups, with one row for each group.\n",
        "You want to guarantee consistency separately for even and odd groups.\n",
        "To do that, you need to set the `instance` of `GroupAsyncTransformer` appropriately."
      ]
    },
    {
      "cell_type": "code",
      "execution_count": null,
      "id": "24",
      "metadata": {},
      "outputs": [
        {
          "name": "stderr",
          "output_type": "stream",
          "text": [
            "[2024-06-13T06:35:37]:INFO:Preparing Pathway computation\n"
          ]
        },
        {
          "name": "stderr",
          "output_type": "stream",
          "text": [
            "[2024-06-13T06:35:37]:INFO:PythonReader-0: 0 entries (1 minibatch(es)) have been sent to the engine\n"
          ]
        },
        {
          "name": "stderr",
          "output_type": "stream",
          "text": [
            "[2024-06-13T06:35:37]:INFO:PythonReader-0: 20 entries (31 minibatch(es)) have been sent to the engine\n"
          ]
        },
        {
          "name": "stderr",
          "output_type": "stream",
          "text": [
            "[2024-06-13T06:35:37]:WARNING:PythonReader-0: Closing the data source\n"
          ]
        },
        {
          "name": "stdout",
          "output_type": "stream",
          "text": [
            "            | group | value | ret | __time__      | __diff__\n",
            "^Z3QWT29... | 2     | 1     | 2   | 1718253337542 | 1\n",
            "^3HN31E1... | 4     | 3     | 4   | 1718253337542 | 1\n",
            "^Z3QWT29... | 2     | 1     | 2   | 1718253337644 | -1\n",
            "^3HN31E1... | 4     | 3     | 4   | 1718253337644 | -1\n",
            "^Z3QWT29... | 2     | 4     | 5   | 1718253337644 | 1\n",
            "^3HN31E1... | 4     | 2     | 3   | 1718253337644 | 1\n",
            "^YYY4HAB... | 1     | 2     | 3   | 1718253337742 | 1\n",
            "^3CZ78B4... | 3     | 2     | 3   | 1718253337742 | 1\n"
          ]
        }
      ],
      "source": [
        "result = GroupAsyncTransformer(input_table=sums, instance=pw.this.group % 2).successful\n",
        "pw.debug.compute_and_print_update_stream(result)"
      ]
    },
    {
      "cell_type": "markdown",
      "id": "25",
      "metadata": {},
      "source": [
        "The updates for groups $2,4$ are bundled together.\n",
        "Group $2$ at time $2$ could finish earlier, but it waits for group $4$.\n",
        "Groups $1,3$ are also dependent on each other.\n",
        "Group $3$ could finish quicker, but it waits for group $1$ to finish.\n",
        "\n",
        "You can have a look at how the updates would proceed if no `instance` was specified:"
      ]
    },
    {
      "cell_type": "code",
      "execution_count": null,
      "id": "26",
      "metadata": {},
      "outputs": [
        {
          "name": "stderr",
          "output_type": "stream",
          "text": [
            "[2024-06-13T06:35:37]:INFO:Preparing Pathway computation\n"
          ]
        },
        {
          "name": "stderr",
          "output_type": "stream",
          "text": [
            "[2024-06-13T06:35:37]:INFO:PythonReader-0: 0 entries (1 minibatch(es)) have been sent to the engine\n"
          ]
        },
        {
          "name": "stderr",
          "output_type": "stream",
          "text": [
            "[2024-06-13T06:35:38]:INFO:PythonReader-0: 20 entries (49 minibatch(es)) have been sent to the engine\n"
          ]
        },
        {
          "name": "stderr",
          "output_type": "stream",
          "text": [
            "[2024-06-13T06:35:38]:WARNING:PythonReader-0: Closing the data source\n"
          ]
        },
        {
          "name": "stdout",
          "output_type": "stream",
          "text": [
            "            | group | value | ret | __time__      | __diff__\n",
            "^Z3QWT29... | 2     | 1     | 2   | 1718253337876 | 1\n",
            "^3CZ78B4... | 3     | 1     | 2   | 1718253337876 | 1\n",
            "^3CZ78B4... | 3     | 1     | 2   | 1718253337976 | -1\n",
            "^3CZ78B4... | 3     | 2     | 3   | 1718253337976 | 1\n",
            "^3HN31E1... | 4     | 2     | 3   | 1718253338076 | 1\n",
            "^Z3QWT29... | 2     | 1     | 2   | 1718253338176 | -1\n",
            "^Z3QWT29... | 2     | 4     | 5   | 1718253338176 | 1\n",
            "^YYY4HAB... | 1     | 2     | 3   | 1718253338276 | 1\n"
          ]
        }
      ],
      "source": [
        "result = GroupAsyncTransformer(input_table=sums).successful\n",
        "pw.debug.compute_and_print_update_stream(result)"
      ]
    },
    {
      "cell_type": "markdown",
      "id": "27",
      "metadata": {},
      "source": [
        "As you can see, only ordering within a group is preserved."
      ]
    },
    {
      "cell_type": "markdown",
      "id": "28",
      "metadata": {},
      "source": [
        "### Full consistency\n",
        "By using the `instance` parameter, it is possible to make the output preserve the temporal ordering of the input.\n",
        "It is enough to set `instance` to the same value for all rows, for example by using a constant.\n",
        "Then results for rows with a given time will wait for all previous times to finish before being returned to the engine.\n",
        "Rows with a given time are returned all at once and have the same time assigned.\n",
        "The new calls are not blocked from starting. Only the results get synchronized.\n",
        "\n",
        "Let's use constant `instance` in the example from the previous section."
      ]
    },
    {
      "cell_type": "code",
      "execution_count": null,
      "id": "29",
      "metadata": {},
      "outputs": [
        {
          "name": "stderr",
          "output_type": "stream",
          "text": [
            "[2024-06-13T06:35:38]:INFO:Preparing Pathway computation\n"
          ]
        },
        {
          "name": "stderr",
          "output_type": "stream",
          "text": [
            "[2024-06-13T06:35:38]:INFO:PythonReader-0: 0 entries (1 minibatch(es)) have been sent to the engine\n"
          ]
        },
        {
          "name": "stderr",
          "output_type": "stream",
          "text": [
            "[2024-06-13T06:35:38]:INFO:PythonReader-0: 20 entries (29 minibatch(es)) have been sent to the engine\n"
          ]
        },
        {
          "name": "stderr",
          "output_type": "stream",
          "text": [
            "[2024-06-13T06:35:38]:WARNING:PythonReader-0: Closing the data source\n"
          ]
        },
        {
          "name": "stdout",
          "output_type": "stream",
          "text": [
            "            | group | value | ret | __time__      | __diff__\n",
            "^YYY4HAB... | 1     | 2     | 3   | 1718253338918 | 1\n",
            "^Z3QWT29... | 2     | 4     | 5   | 1718253338918 | 1\n",
            "^3CZ78B4... | 3     | 2     | 3   | 1718253338918 | 1\n",
            "^3HN31E1... | 4     | 2     | 3   | 1718253338918 | 1\n"
          ]
        }
      ],
      "source": [
        "result = GroupAsyncTransformer(input_table=sums, instance=0).successful\n",
        "pw.debug.compute_and_print_update_stream(result)"
      ]
    },
    {
      "cell_type": "markdown",
      "id": "30",
      "metadata": {},
      "source": [
        "All rows are returned at the same time.\n",
        "There are also no updates because calls for time $2$ are finished later than calls for time $4$.\n",
        "You can play with the data to make time $2$ finish before time $4$ and see that the update happens once."
      ]
    },
    {
      "cell_type": "markdown",
      "id": "31",
      "metadata": {
        "lines_to_next_cell": 2
      },
      "source": [
        "### Failing calls consistency\n",
        "If the `instance` parameter is used and the call for a given instance fails, the instance is in the failed state from this time.\n",
        "`AsyncTransformer` requires all calls with a given `(instance, processing time)` pair to finish successfully.\n",
        "If at least one call fails, returning other rows could leave the instance in an inconsistent state.\n",
        "Let's take a look at what happens if `group` $4$ fails at time $4$."
      ]
    },
    {
      "cell_type": "code",
      "execution_count": null,
      "id": "32",
      "metadata": {},
      "outputs": [
        {
          "name": "stderr",
          "output_type": "stream",
          "text": [
            "[2024-06-13T06:35:38]:INFO:Preparing Pathway computation\n"
          ]
        },
        {
          "name": "stderr",
          "output_type": "stream",
          "text": [
            "[2024-06-13T06:35:38]:INFO:PythonReader-0: 0 entries (1 minibatch(es)) have been sent to the engine\n"
          ]
        },
        {
          "name": "stderr",
          "output_type": "stream",
          "text": [
            "[2024-06-13T06:35:38]:ERROR:Exception in AsyncTransformer:\n",
            "Traceback (most recent call last):\n",
            "  File \"/mnt/scratch/pathwaytester/.jenkins/workspace/website_DailyPathwaycomRedeploy/public/pathway/python/pathway/stdlib/utils/async_transformer.py\", line 138, in task\n",
            "    result = await self._invoke(**values)\n",
            "             ^^^^^^^^^^^^^^^^^^^^^^^^^^^^\n",
            "  File \"/mnt/scratch/pathwaytester/.jenkins/workspace/website_DailyPathwaycomRedeploy/public/pathway/python/pathway/internals/udfs/caches.py\", line 57, in wrapper\n",
            "    return await func(*args, **kwargs)\n",
            "           ^^^^^^^^^^^^^^^^^^^^^^^^^^^\n",
            "  File \"/tmp/ipykernel_2126549/3317061531.py\", line 6, in invoke\n",
            "    raise ValueError(\"err\")\n",
            "ValueError: err\n"
          ]
        },
        {
          "name": "stderr",
          "output_type": "stream",
          "text": [
            "[2024-06-13T06:35:39]:INFO:PythonReader-0: 20 entries (31 minibatch(es)) have been sent to the engine\n"
          ]
        },
        {
          "name": "stderr",
          "output_type": "stream",
          "text": [
            "[2024-06-13T06:35:39]:WARNING:PythonReader-0: Closing the data source\n"
          ]
        },
        {
          "name": "stdout",
          "output_type": "stream",
          "text": [
            "            | group | value | ret | __time__      | __diff__\n",
            "^Z3QWT29... | 2     | 1     | 2   | 1718253339254 | 1\n",
            "^3HN31E1... | 4     | 3     | 4   | 1718253339254 | 1\n",
            "^Z3QWT29... | 2     | 1     | 2   | 1718253339354 | -1\n",
            "^3HN31E1... | 4     | 3     | 4   | 1718253339354 | -1\n",
            "^YYY4HAB... | 1     | 2     | 3   | 1718253339452 | 1\n",
            "^3CZ78B4... | 3     | 2     | 3   | 1718253339452 | 1\n"
          ]
        }
      ],
      "source": [
        "class SuspiciousGroupAsyncTransformer(\n",
        "    pw.AsyncTransformer, output_schema=OutputWithGroupSchema\n",
        "):\n",
        "    async def invoke(self, value: int, group: int) -> dict:\n",
        "        if group == 4 and value == 2:\n",
        "            raise ValueError(\"err\")\n",
        "        await asyncio.sleep(value / 10)\n",
        "        return dict(group=group, value=value, ret=value + 1)\n",
        "\n",
        "\n",
        "result = SuspiciousGroupAsyncTransformer(\n",
        "    input_table=sums, instance=pw.this.group % 2\n",
        ").successful\n",
        "pw.debug.compute_and_print_update_stream(result)"
      ]
    },
    {
      "cell_type": "markdown",
      "id": "33",
      "metadata": {},
      "source": [
        "New values for the even instance (groups $2,4$) coming from the entries at time $4$ are not inserted because group $4$ fails and hence the whole instance fails. None of the entries in the odd instance (groups $1,3$) fail so it is updated normally."
      ]
    },
    {
      "cell_type": "markdown",
      "id": "34",
      "metadata": {},
      "source": [
        "## Conclusions\n",
        "In this guide, you've learned how to create your own `AsyncTransformer`\n",
        "when you need to process the data asynchronously in Pathway.\n",
        "You know how to control its behavior by setting parameters like `timeout`, `cache_strategy` and `retry_strategy`.\n",
        "You can control the tradeoff between the speed and the consistency of the results.\n",
        "\n",
        "Now, you also understand the difference between asynchronous UDFs and AsyncTransformer.\n",
        "The former is asynchronous only within a single batch of data\n",
        "and can return values only to a single column,\n",
        "while the latter is fully asynchronous and can return multiple columns.\n",
        "It also allows for specifying the consistency level by using the `instance` parameter."
      ]
    }
  ],
  "metadata": {
    "jupytext": {
      "cell_metadata_filter": "-all",
      "main_language": "python",
      "notebook_metadata_filter": "-all"
    },
    "language_info": {
      "codemirror_mode": {
        "name": "ipython",
        "version": 3
      },
      "file_extension": ".py",
      "mimetype": "text/x-python",
      "name": "python",
      "nbconvert_exporter": "python",
      "pygments_lexer": "ipython3",
      "version": "3.11.9"
    }
  },
  "nbformat": 4,
  "nbformat_minor": 5
}