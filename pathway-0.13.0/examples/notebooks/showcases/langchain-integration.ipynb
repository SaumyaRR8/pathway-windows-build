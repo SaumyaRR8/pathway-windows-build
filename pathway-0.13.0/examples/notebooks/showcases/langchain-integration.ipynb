{
  "cells": [
    {
      "cell_type": "markdown",
      "metadata": {
        "id": "view-in-colab"
      },
      "source": [
        "<a href=\"https://colab.research.google.com/github/pathwaycom/pathway/blob/main/examples/notebooks/showcases/langchain-integration.ipynb\" target=\"_parent\"><img src=\"https://pathway.com/assets/colab-badge.svg\" alt=\"Run In Colab\" class=\"inline\"/></a>"
      ]
    },
    {
      "cell_type": "markdown",
      "source": [
        "# Installing Pathway with Python 3.10+\n",
        "\n",
        "In the cell below, we install Pathway into a Python 3.10+ Linux runtime.\n",
        "\n",
        "> **If you are running in Google Colab, please run the colab notebook (Ctrl+F9)**, disregarding the 'not authored by Google' warning.\n",
        "> \n",
        "> **The installation and loading time is less than 1 minute**.\n"
      ],
      "metadata": {
        "id": "notebook-instructions"
      }
    },
    {
      "cell_type": "code",
      "source": [
        "%%capture --no-display\n",
        "!pip install --prefer-binary pathway"
      ],
      "metadata": {
        "id": "pip-installation-pathway",
        "cellView": "form"
      },
      "execution_count": null,
      "outputs": []
    },
    {
      "cell_type": "code",
      "id": "license-key",
      "source": [
        "import pathway as pw\n",
        "\n",
        "# To use advanced features with Pathway Scale, get your free license key from\n",
        "# https://pathway.com/features and paste it below.\n",
        "# To use Pathway Community, comment out the line below.\n",
        "pw.set_license_key(\"demo-license-key-with-telemetry\")"
      ],
      "metadata": {},
      "execution_count": null,
      "outputs": []
    },
    {
      "cell_type": "markdown",
      "id": "1",
      "metadata": {},
      "source": [
        "# Langchain and Pathway: RAG Apps with always-up-to-date knowledge\n",
        "\n",
        "<!-- Canva link for thumbnail: https://www.canva.com/design/DAGFNCj-Np8/P3FKop5Gv4r9MDCrgecDPQ/edit -->\n",
        "\n",
        "You can now use Pathway in your RAG applications which enables always up-to-date knowledge from your documents to LLMs with Langchaing integration.\n",
        "\n",
        "Pathway is now available on [Langchain](https://python.langchain.com/docs/integrations/vectorstores/pathway/), a framework for developing applications powered by large language models (LLMs).\n",
        "You can now query Pathway and access up-to-date documents for your RAG applications from LangChain using [PathwayVectorClient](https://api.python.langchain.com/en/latest/vectorstores/langchain_community.vectorstores.pathway.PathwayVectorClient.html).\n",
        "\n",
        "With this new integration, you will be able to use Pathway Vector Store natively in LangChain. In this guide, you will have a quick dive into Pathway + LangChain to learn how to create a simple, yet powerful RAG solution."
      ]
    },
    {
      "cell_type": "markdown",
      "id": "2",
      "metadata": {},
      "source": [
        "## Prerequisites\n",
        "\n",
        "To work with LangChain you need to install `langchain` package, as it is not a dependence of Pathway. In the example in this guide you will also use `OpenAIEmbeddings` class for which you need `langchain_openai` package."
      ]
    },
    {
      "cell_type": "code",
      "execution_count": null,
      "id": "3",
      "metadata": {},
      "outputs": [],
      "source": [
        "!pip install langchain\n",
        "!pip install langchain_community\n",
        "!pip install langchain_openai\n"
      ]
    },
    {
      "cell_type": "markdown",
      "id": "4",
      "metadata": {},
      "source": [
        "## Using LangChain components in Pathway Vector Store\n",
        "When using Pathway [`VectorStoreServer`](/developers/api-docs/pathway-xpacks-llm/vectorstore#pathway.xpacks.llm.vector_store.VectorStoreServer), you can use LangChain embedder and splitter for processing documents. To do that, use [`from_langchain_components`](/developers/api-docs/pathway-xpacks-llm/vectorstore#pathway.xpacks.llm.vector_store.VectorStoreServer.from_langchain_components) class method.\n",
        "\n",
        "To start, you need to create a folder Pathway will listen to. Feel free to skip this if you already have a folder on which you want to build your RAG application. You can also use Google Drive, Sharepoint, or any other source from [pathway-io](/developers/api-docs/pathway-io)."
      ]
    },
    {
      "cell_type": "code",
      "execution_count": null,
      "id": "5",
      "metadata": {},
      "outputs": [],
      "source": [
        "!mkdir -p 'data/'"
      ]
    },
    {
      "cell_type": "markdown",
      "id": "6",
      "metadata": {},
      "source": [
        "To run this example you also need to set OpenAI API key, or change the embedder."
      ]
    },
    {
      "cell_type": "code",
      "execution_count": null,
      "id": "7",
      "metadata": {},
      "outputs": [],
      "source": [
        "import os\n",
        "import getpass\n",
        "\n",
        "# Set OpenAI API Key\n",
        "if \"OPENAI_API_KEY\" in os.environ:\n",
        "    api_key = os.environ[\"OPENAI_API_KEY\"]\n",
        "else:\n",
        "    api_key = getpass.getpass(\"OpenAI API Key:\")"
      ]
    },
    {
      "cell_type": "markdown",
      "id": "8",
      "metadata": {},
      "source": [
        "To run the server use Pathway filesystem connector to read files from the `data` folder."
      ]
    },
    {
      "cell_type": "code",
      "execution_count": null,
      "id": "9",
      "metadata": {},
      "outputs": [],
      "source": [
        "import pathway as pw\n",
        "from pathway.xpacks.llm.vector_store import VectorStoreServer\n",
        "from langchain_openai import OpenAIEmbeddings\n",
        "from langchain.text_splitter import CharacterTextSplitter\n",
        "\n",
        "data = pw.io.fs.read(\n",
        "    \"./data\",\n",
        "    format=\"binary\",\n",
        "    mode=\"streaming\",\n",
        "    with_metadata=True,\n",
        ")"
      ]
    },
    {
      "cell_type": "markdown",
      "id": "10",
      "metadata": {},
      "source": [
        "And then pass them to the server, which will split them using `CharacterTextSplitter` and embed them using `OpenAIEmbeddings`, both from LangChain."
      ]
    },
    {
      "cell_type": "code",
      "execution_count": null,
      "id": "11",
      "metadata": {},
      "outputs": [],
      "source": [
        "embeddings = OpenAIEmbeddings(api_key=api_key)\n",
        "splitter = CharacterTextSplitter()\n",
        "\n",
        "host = \"127.0.0.1\"\n",
        "port = 8666\n",
        "\n",
        "server = VectorStoreServer.from_langchain_components(\n",
        "    data, embedder=embeddings, splitter=splitter\n",
        ")\n",
        "server.run_server(host, port=port, with_cache=True, cache_backend=pw.persistence.Backend.filesystem(\"./Cache\"), threaded=True)"
      ]
    },
    {
      "cell_type": "markdown",
      "id": "12",
      "metadata": {},
      "source": [
        "The server is now running and ready for querying with a [`VectorStoreServer`](/developers/api-docs/pathway-xpacks-llm/vectorstore#pathway.xpacks.llm.vector_store.VectorStoreClient) ot with a `PathwayVectorClient` from `langchain-community` described in the next Section."
      ]
    },
    {
      "cell_type": "markdown",
      "id": "13",
      "metadata": {},
      "source": [
        "## Using Pathway as a Vector Store in LangChain pipelines\n",
        "\n",
        "Once you have a `VectorStoreServer` running you can access it from LangChain pipeline by using [PathwayVectorClient](https://api.python.langchain.com/en/latest/vectorstores/langchain_community.vectorstores.pathway.PathwayVectorClient.html).\n",
        "\n",
        "To do that you need to provide either the `url` or `host` and `port` of the running `VectorStoreServer`. In the code example below, you will connect to the `VectorStoreServer` defined in the previous Section, so make sure it's running before making queries. Alternatively, you can also use a publicly available [demo pipeline](https://pathway.com/solutions/rag-pipelines#try-it-out) to test your client. Its REST API you can access at `https://demo-document-indexing.pathway.stream`. This demo ingests documents from [Google Drive](https://drive.google.com/drive/u/0/folders/1cULDv2OaViJBmOfG5WB0oWcgayNrGtVs) and [Sharepoint](https://navalgo.sharepoint.com/sites/ConnectorSandbox/Shared%20Documents/Forms/AllItems.aspx?id=%2Fsites%2FConnectorSandbox%2FShared%20Documents%2FIndexerSandbox&p=true&ga=1)."
      ]
    },
    {
      "cell_type": "code",
      "execution_count": null,
      "id": "14",
      "metadata": {},
      "outputs": [],
      "source": [
        "from langchain_community.vectorstores import PathwayVectorClient\n",
        "\n",
        "client = PathwayVectorClient(host=host, port=port)"
      ]
    },
    {
      "cell_type": "code",
      "execution_count": null,
      "id": "15",
      "metadata": {},
      "outputs": [],
      "source": [
        "query = \"What is Pathway?\"\n",
        "docs = client.similarity_search(query)\n",
        "print(docs)"
      ]
    },
    {
      "cell_type": "markdown",
      "id": "16",
      "metadata": {},
      "source": [
        "As you can see, the LLM cannot respond clearly as it lacks current knowledge, but this is where Pathway shines. Add new data to the folder Pathway is listening to, then ask our agent again to see how it responds.\n",
        "To do that, you can download the repo readme of Pathway into our data folder:"
      ]
    },
    {
      "cell_type": "code",
      "execution_count": null,
      "id": "17",
      "metadata": {},
      "outputs": [],
      "source": [
        "!wget 'https://raw.githubusercontent.com/pathwaycom/pathway/main/README.md' -O 'data/pathway_readme.md' -q -nc"
      ]
    },
    {
      "cell_type": "markdown",
      "id": "18",
      "metadata": {},
      "source": [
        "Try again to query with the new data:"
      ]
    },
    {
      "cell_type": "code",
      "execution_count": null,
      "id": "19",
      "metadata": {},
      "outputs": [],
      "source": [
        "docs = client.similarity_search(query)\n",
        "print(docs)"
      ]
    },
    {
      "cell_type": "markdown",
      "id": "20",
      "metadata": {},
      "source": [
        "### RAG pipeline in LangChain"
      ]
    },
    {
      "cell_type": "markdown",
      "id": "21",
      "metadata": {},
      "source": [
        "The next step is to write a chain in LangChain. The next example implements a simple RAG, that given a question, retrieves documents from Pathway Vector Store. These are then used as a context for the given question in a prompt sent to the OpenAI chat."
      ]
    },
    {
      "cell_type": "code",
      "execution_count": null,
      "id": "22",
      "metadata": {},
      "outputs": [],
      "source": [
        "from langchain_core.output_parsers import StrOutputParser\n",
        "from langchain_core.prompts import ChatPromptTemplate\n",
        "from langchain_core.runnables import RunnablePassthrough\n",
        "from langchain_openai import ChatOpenAI\n",
        "\n",
        "retriever = client.as_retriever()\n",
        "\n",
        "template = \"\"\"\n",
        "You are smart assistant that helps users with their documents on Google Drive and Sharepoint.\n",
        "Given a context, respond to the user question.\n",
        "CONTEXT:\n",
        "{context}\n",
        "QUESTION: {question}\n",
        "YOUR ANSWER:\"\"\"\n",
        "\n",
        "prompt = ChatPromptTemplate.from_template(template)\n",
        "llm = ChatOpenAI()\n",
        "chain = (\n",
        "    {\"context\": retriever, \"question\": RunnablePassthrough()}\n",
        "    | prompt\n",
        "    | llm\n",
        "    | StrOutputParser()\n",
        ")"
      ]
    },
    {
      "cell_type": "markdown",
      "id": "23",
      "metadata": {},
      "source": [
        "Now you have a RAG chain written in LangChain that uses Pathway as its Vector Store. Test it by asking some question."
      ]
    },
    {
      "cell_type": "code",
      "execution_count": null,
      "id": "24",
      "metadata": {},
      "outputs": [],
      "source": [
        "chain.invoke(\"What is Pathway?\")"
      ]
    },
    {
      "cell_type": "markdown",
      "id": "25",
      "metadata": {},
      "source": [
        "### Vector Store statistics\n",
        "\n",
        "Just like [`VectorStoreClient`](/developers/api-docs/pathway-xpacks-llm/vectorstore#pathway.xpacks.llm.vector_store.VectorStoreClient) from the Pathway LLM xpack, `PathwayVectorClient` gives you two methods for getting information about indexed documents.\n",
        "\n",
        "The first one is [`get_vectorstore_statistics`](https://api.python.langchain.com/en/latest/vectorstores/langchain_community.vectorstores.pathway.PathwayVectorClient.html#langchain_community.vectorstores.pathway.PathwayVectorClient.get_vectorstore_statistics) and gives essential statistics on the state of the vector store, like the number of indexed files and the timestamp of the last updated one. The second one is [`get_input_files`](https://api.python.langchain.com/en/latest/vectorstores/langchain_community.vectorstores.pathway.PathwayVectorClient.html#langchain_community.vectorstores.pathway.PathwayVectorClient.get_input_files), which gets the list of indexed files along with the associated metadata."
      ]
    },
    {
      "cell_type": "code",
      "execution_count": null,
      "id": "26",
      "metadata": {},
      "outputs": [],
      "source": [
        "print(client.get_vectorstore_statistics())\n",
        "print(client.get_input_files())"
      ]
    }
  ],
  "metadata": {
    "jupytext": {
      "cell_metadata_filter": "-all",
      "main_language": "python",
      "notebook_metadata_filter": "-all"
    },
    "language_info": {
      "codemirror_mode": {
        "name": "ipython",
        "version": 3
      },
      "file_extension": ".py",
      "mimetype": "text/x-python",
      "name": "python",
      "nbconvert_exporter": "python",
      "pygments_lexer": "ipython3",
      "version": "3.11.9"
    }
  },
  "nbformat": 4,
  "nbformat_minor": 5
}